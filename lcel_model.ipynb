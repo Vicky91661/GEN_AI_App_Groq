{
 "cells": [
  {
   "cell_type": "markdown",
   "metadata": {},
   "source": [
    "### Build a Simple LLM Application with LCEL\n",
    "In this quickstart we'll show you how to build a simple LLM application with LangChain. THis application will translate text from ENglish into another language. This is a relatively simple LLM application- it;s just a single  LLm call plus some prompting. Still, this is a  great wat to get started with Langchain - a lot of features can be built with just some prompting and an LLm call!\n",
    "\n",
    "High level overview of :\n",
    "- Using language models\n",
    "- Using PrommptTempplates and OutputParsers\n",
    "- Using LangChain Expression Language(LCEL) to chain components together\n",
    "- Debugging and tracing your application using LangSmith\n",
    "- Deploying application with LangServe\n"
   ]
  },
  {
   "cell_type": "code",
   "execution_count": 11,
   "metadata": {},
   "outputs": [],
   "source": [
    "### OpenAI API Key and open Source models -- Llama3, Gemma2, mistral -- Groq\n",
    "import os\n",
    "from dotenv import load_dotenv\n",
    "load_dotenv()\n",
    "\n",
    "import openai\n",
    "openai.api_key = os.getenv(\"OPENAI_API_KEY\")\n"
   ]
  },
  {
   "cell_type": "markdown",
   "metadata": {},
   "source": [
    "#### Groq\n",
    "##### What is the LPU Inference Engine ?\n",
    "An LPU Interface Engine, with LPU Standing for Language Processing Unit, is a hardware and software platform that delivers exceptional compute speed, quality and energy efficiency. This new type of end-to-end processing unit system provides the fastest inference for computationally intensive application with sequential componenets, such as AI lnaguage application like Large Lnaguage Models(LLMs).\n",
    "##### Why is it so much faster than GPUs for LLMs and GenAI?\n",
    "The LPU is designed to overcome the two LLM bottlenecks: Compute density and memory bandwidth. An LPU has greater compute capacity than a GPU and CPU in regards to LLMs. This reduces the amount of time per word calculated, allowing sequence to text to be generated much faster."
   ]
  },
  {
   "cell_type": "code",
   "execution_count": 12,
   "metadata": {},
   "outputs": [
    {
     "data": {
      "text/plain": [
       "'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'"
      ]
     },
     "execution_count": 12,
     "metadata": {},
     "output_type": "execute_result"
    }
   ],
   "source": [
    "groq_api_key  = os.getenv(\"GROQ_KEY\")\n",
    "groq_api_key"
   ]
  },
  {
   "cell_type": "code",
   "execution_count": 9,
   "metadata": {},
   "outputs": [
    {
     "name": "stderr",
     "output_type": "stream",
     "text": [
      "ERROR: Could not find a version that satisfies the requirement os (from versions: none)\n",
      "ERROR: No matching distribution found for os\n"
     ]
    }
   ],
   "source": [
    "!pip install langchain_openai\n"
   ]
  },
  {
   "cell_type": "code",
   "execution_count": 13,
   "metadata": {},
   "outputs": [],
   "source": [
    "from langchain_groq import ChatGroq\n",
    "from langchain_openai import ChatOpenAI"
   ]
  },
  {
   "cell_type": "code",
   "execution_count": 15,
   "metadata": {},
   "outputs": [
    {
     "data": {
      "text/plain": [
       "ChatGroq(client=<groq.resources.chat.completions.Completions object at 0x000001EAD615AC90>, async_client=<groq.resources.chat.completions.AsyncCompletions object at 0x000001EAD615A0C0>, model_name='Gemma2-9b-It', model_kwargs={}, groq_api_key=SecretStr('**********'))"
      ]
     },
     "execution_count": 15,
     "metadata": {},
     "output_type": "execute_result"
    }
   ],
   "source": [
    "model = ChatGroq(model=\"Gemma2-9b-It\",groq_api_key=groq_api_key)\n",
    "model"
   ]
  },
  {
   "cell_type": "code",
   "execution_count": null,
   "metadata": {},
   "outputs": [],
   "source": []
  }
 ],
 "metadata": {
  "kernelspec": {
   "display_name": "ann_project",
   "language": "python",
   "name": "python3"
  },
  "language_info": {
   "codemirror_mode": {
    "name": "ipython",
    "version": 3
   },
   "file_extension": ".py",
   "mimetype": "text/x-python",
   "name": "python",
   "nbconvert_exporter": "python",
   "pygments_lexer": "ipython3",
   "version": "3.12.0"
  }
 },
 "nbformat": 4,
 "nbformat_minor": 2
}
